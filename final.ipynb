{
 "cells": [
  {
   "cell_type": "code",
   "execution_count": null,
   "id": "4f506cb2-9e71-46c2-8274-cfbc0256d958",
   "metadata": {},
   "outputs": [],
   "source": [
    "#최지웅 "
   ]
  },
  {
   "cell_type": "code",
   "execution_count": 1,
   "id": "657607cc-86e6-433d-a1e9-4ef47912d1fa",
   "metadata": {},
   "outputs": [],
   "source": [
    "import pandas as pd\n",
    "import numpy as np\n",
    "import matplotlib.pyplot as plt\n",
    "from matplotlib import font_manager, rc\n",
    "font_name = font_manager.FontProperties(fname=\"c:/Windows/Fonts/malgun.ttf\").get_name()\n",
    "rc('font', family=font_name)"
   ]
  },
  {
   "cell_type": "code",
   "execution_count": 2,
   "id": "5578e5ab-c876-4580-956f-5a970ff26551",
   "metadata": {},
   "outputs": [],
   "source": [
    "data= pd.read_csv(\"telco.csv\")"
   ]
  },
  {
   "cell_type": "code",
   "execution_count": 3,
   "id": "c588efc5-b78e-440c-84ee-30ba1ce2ea1f",
   "metadata": {},
   "outputs": [
    {
     "data": {
      "text/html": [
       "<div>\n",
       "<style scoped>\n",
       "    .dataframe tbody tr th:only-of-type {\n",
       "        vertical-align: middle;\n",
       "    }\n",
       "\n",
       "    .dataframe tbody tr th {\n",
       "        vertical-align: top;\n",
       "    }\n",
       "\n",
       "    .dataframe thead th {\n",
       "        text-align: right;\n",
       "    }\n",
       "</style>\n",
       "<table border=\"1\" class=\"dataframe\">\n",
       "  <thead>\n",
       "    <tr style=\"text-align: right;\">\n",
       "      <th></th>\n",
       "      <th>0</th>\n",
       "      <th>1</th>\n",
       "      <th>2</th>\n",
       "      <th>3</th>\n",
       "      <th>4</th>\n",
       "      <th>5</th>\n",
       "      <th>6</th>\n",
       "      <th>7</th>\n",
       "      <th>8</th>\n",
       "      <th>9</th>\n",
       "      <th>...</th>\n",
       "      <th>3323</th>\n",
       "      <th>3324</th>\n",
       "      <th>3325</th>\n",
       "      <th>3326</th>\n",
       "      <th>3327</th>\n",
       "      <th>3328</th>\n",
       "      <th>3329</th>\n",
       "      <th>3330</th>\n",
       "      <th>3331</th>\n",
       "      <th>3332</th>\n",
       "    </tr>\n",
       "  </thead>\n",
       "  <tbody>\n",
       "    <tr>\n",
       "      <th>Leave</th>\n",
       "      <td>0.00</td>\n",
       "      <td>0.00</td>\n",
       "      <td>0.00</td>\n",
       "      <td>0.0</td>\n",
       "      <td>0.00</td>\n",
       "      <td>0.00</td>\n",
       "      <td>0.00</td>\n",
       "      <td>0.00</td>\n",
       "      <td>0.00</td>\n",
       "      <td>0.00</td>\n",
       "      <td>...</td>\n",
       "      <td>1.00</td>\n",
       "      <td>0.00</td>\n",
       "      <td>0.00</td>\n",
       "      <td>0.00</td>\n",
       "      <td>0.00</td>\n",
       "      <td>0.00</td>\n",
       "      <td>0.00</td>\n",
       "      <td>0.00</td>\n",
       "      <td>0.00</td>\n",
       "      <td>0.0</td>\n",
       "    </tr>\n",
       "    <tr>\n",
       "      <th>MemberWeeks</th>\n",
       "      <td>128.00</td>\n",
       "      <td>107.00</td>\n",
       "      <td>137.00</td>\n",
       "      <td>84.0</td>\n",
       "      <td>75.00</td>\n",
       "      <td>118.00</td>\n",
       "      <td>121.00</td>\n",
       "      <td>147.00</td>\n",
       "      <td>117.00</td>\n",
       "      <td>141.00</td>\n",
       "      <td>...</td>\n",
       "      <td>117.00</td>\n",
       "      <td>159.00</td>\n",
       "      <td>78.00</td>\n",
       "      <td>96.00</td>\n",
       "      <td>79.00</td>\n",
       "      <td>192.00</td>\n",
       "      <td>68.00</td>\n",
       "      <td>28.00</td>\n",
       "      <td>184.00</td>\n",
       "      <td>74.0</td>\n",
       "    </tr>\n",
       "    <tr>\n",
       "      <th>NewContract</th>\n",
       "      <td>1.00</td>\n",
       "      <td>1.00</td>\n",
       "      <td>1.00</td>\n",
       "      <td>0.0</td>\n",
       "      <td>0.00</td>\n",
       "      <td>0.00</td>\n",
       "      <td>1.00</td>\n",
       "      <td>0.00</td>\n",
       "      <td>1.00</td>\n",
       "      <td>0.00</td>\n",
       "      <td>...</td>\n",
       "      <td>1.00</td>\n",
       "      <td>1.00</td>\n",
       "      <td>1.00</td>\n",
       "      <td>1.00</td>\n",
       "      <td>1.00</td>\n",
       "      <td>1.00</td>\n",
       "      <td>1.00</td>\n",
       "      <td>1.00</td>\n",
       "      <td>0.00</td>\n",
       "      <td>1.0</td>\n",
       "    </tr>\n",
       "    <tr>\n",
       "      <th>IsData</th>\n",
       "      <td>1.00</td>\n",
       "      <td>1.00</td>\n",
       "      <td>0.00</td>\n",
       "      <td>0.0</td>\n",
       "      <td>0.00</td>\n",
       "      <td>0.00</td>\n",
       "      <td>1.00</td>\n",
       "      <td>0.00</td>\n",
       "      <td>0.00</td>\n",
       "      <td>1.00</td>\n",
       "      <td>...</td>\n",
       "      <td>0.00</td>\n",
       "      <td>0.00</td>\n",
       "      <td>0.00</td>\n",
       "      <td>0.00</td>\n",
       "      <td>0.00</td>\n",
       "      <td>1.00</td>\n",
       "      <td>0.00</td>\n",
       "      <td>0.00</td>\n",
       "      <td>0.00</td>\n",
       "      <td>1.0</td>\n",
       "    </tr>\n",
       "    <tr>\n",
       "      <th>DataAmount</th>\n",
       "      <td>2.70</td>\n",
       "      <td>3.70</td>\n",
       "      <td>0.00</td>\n",
       "      <td>0.0</td>\n",
       "      <td>0.00</td>\n",
       "      <td>0.00</td>\n",
       "      <td>2.03</td>\n",
       "      <td>0.00</td>\n",
       "      <td>0.19</td>\n",
       "      <td>3.02</td>\n",
       "      <td>...</td>\n",
       "      <td>0.39</td>\n",
       "      <td>0.00</td>\n",
       "      <td>0.23</td>\n",
       "      <td>0.36</td>\n",
       "      <td>0.00</td>\n",
       "      <td>2.67</td>\n",
       "      <td>0.34</td>\n",
       "      <td>0.00</td>\n",
       "      <td>0.00</td>\n",
       "      <td>3.7</td>\n",
       "    </tr>\n",
       "    <tr>\n",
       "      <th>Callcenter</th>\n",
       "      <td>1.00</td>\n",
       "      <td>1.00</td>\n",
       "      <td>0.00</td>\n",
       "      <td>2.0</td>\n",
       "      <td>3.00</td>\n",
       "      <td>0.00</td>\n",
       "      <td>3.00</td>\n",
       "      <td>0.00</td>\n",
       "      <td>1.00</td>\n",
       "      <td>0.00</td>\n",
       "      <td>...</td>\n",
       "      <td>5.00</td>\n",
       "      <td>1.00</td>\n",
       "      <td>2.00</td>\n",
       "      <td>1.00</td>\n",
       "      <td>2.00</td>\n",
       "      <td>2.00</td>\n",
       "      <td>3.00</td>\n",
       "      <td>2.00</td>\n",
       "      <td>2.00</td>\n",
       "      <td>0.0</td>\n",
       "    </tr>\n",
       "    <tr>\n",
       "      <th>CalMins</th>\n",
       "      <td>265.10</td>\n",
       "      <td>161.60</td>\n",
       "      <td>243.40</td>\n",
       "      <td>299.4</td>\n",
       "      <td>166.70</td>\n",
       "      <td>223.40</td>\n",
       "      <td>218.20</td>\n",
       "      <td>157.00</td>\n",
       "      <td>184.50</td>\n",
       "      <td>258.60</td>\n",
       "      <td>...</td>\n",
       "      <td>118.40</td>\n",
       "      <td>169.80</td>\n",
       "      <td>193.40</td>\n",
       "      <td>106.60</td>\n",
       "      <td>134.70</td>\n",
       "      <td>156.20</td>\n",
       "      <td>231.10</td>\n",
       "      <td>180.80</td>\n",
       "      <td>213.80</td>\n",
       "      <td>234.4</td>\n",
       "    </tr>\n",
       "    <tr>\n",
       "      <th>CalCounts</th>\n",
       "      <td>110.00</td>\n",
       "      <td>123.00</td>\n",
       "      <td>114.00</td>\n",
       "      <td>71.0</td>\n",
       "      <td>113.00</td>\n",
       "      <td>98.00</td>\n",
       "      <td>88.00</td>\n",
       "      <td>79.00</td>\n",
       "      <td>97.00</td>\n",
       "      <td>84.00</td>\n",
       "      <td>...</td>\n",
       "      <td>126.00</td>\n",
       "      <td>114.00</td>\n",
       "      <td>99.00</td>\n",
       "      <td>128.00</td>\n",
       "      <td>98.00</td>\n",
       "      <td>77.00</td>\n",
       "      <td>57.00</td>\n",
       "      <td>109.00</td>\n",
       "      <td>105.00</td>\n",
       "      <td>113.0</td>\n",
       "    </tr>\n",
       "    <tr>\n",
       "      <th>MonthlyFee</th>\n",
       "      <td>89.00</td>\n",
       "      <td>82.00</td>\n",
       "      <td>52.00</td>\n",
       "      <td>57.0</td>\n",
       "      <td>41.00</td>\n",
       "      <td>57.00</td>\n",
       "      <td>87.30</td>\n",
       "      <td>36.00</td>\n",
       "      <td>63.90</td>\n",
       "      <td>93.20</td>\n",
       "      <td>...</td>\n",
       "      <td>45.90</td>\n",
       "      <td>46.00</td>\n",
       "      <td>45.30</td>\n",
       "      <td>46.60</td>\n",
       "      <td>40.00</td>\n",
       "      <td>71.70</td>\n",
       "      <td>56.40</td>\n",
       "      <td>56.00</td>\n",
       "      <td>50.00</td>\n",
       "      <td>100.0</td>\n",
       "    </tr>\n",
       "    <tr>\n",
       "      <th>OverFee</th>\n",
       "      <td>9.87</td>\n",
       "      <td>9.78</td>\n",
       "      <td>6.06</td>\n",
       "      <td>3.1</td>\n",
       "      <td>7.42</td>\n",
       "      <td>11.03</td>\n",
       "      <td>17.43</td>\n",
       "      <td>5.16</td>\n",
       "      <td>17.58</td>\n",
       "      <td>11.10</td>\n",
       "      <td>...</td>\n",
       "      <td>12.47</td>\n",
       "      <td>9.89</td>\n",
       "      <td>5.85</td>\n",
       "      <td>14.24</td>\n",
       "      <td>9.49</td>\n",
       "      <td>10.78</td>\n",
       "      <td>7.67</td>\n",
       "      <td>14.44</td>\n",
       "      <td>7.98</td>\n",
       "      <td>13.3</td>\n",
       "    </tr>\n",
       "    <tr>\n",
       "      <th>RoamingMin</th>\n",
       "      <td>10.00</td>\n",
       "      <td>13.70</td>\n",
       "      <td>12.20</td>\n",
       "      <td>6.6</td>\n",
       "      <td>10.10</td>\n",
       "      <td>6.30</td>\n",
       "      <td>7.50</td>\n",
       "      <td>7.10</td>\n",
       "      <td>8.70</td>\n",
       "      <td>11.20</td>\n",
       "      <td>...</td>\n",
       "      <td>13.60</td>\n",
       "      <td>11.60</td>\n",
       "      <td>9.30</td>\n",
       "      <td>14.90</td>\n",
       "      <td>11.80</td>\n",
       "      <td>9.90</td>\n",
       "      <td>9.60</td>\n",
       "      <td>14.10</td>\n",
       "      <td>5.00</td>\n",
       "      <td>13.7</td>\n",
       "    </tr>\n",
       "  </tbody>\n",
       "</table>\n",
       "<p>11 rows × 3333 columns</p>\n",
       "</div>"
      ],
      "text/plain": [
       "               0       1       2      3       4       5       6       7     \\\n",
       "Leave          0.00    0.00    0.00    0.0    0.00    0.00    0.00    0.00   \n",
       "MemberWeeks  128.00  107.00  137.00   84.0   75.00  118.00  121.00  147.00   \n",
       "NewContract    1.00    1.00    1.00    0.0    0.00    0.00    1.00    0.00   \n",
       "IsData         1.00    1.00    0.00    0.0    0.00    0.00    1.00    0.00   \n",
       "DataAmount     2.70    3.70    0.00    0.0    0.00    0.00    2.03    0.00   \n",
       "Callcenter     1.00    1.00    0.00    2.0    3.00    0.00    3.00    0.00   \n",
       "CalMins      265.10  161.60  243.40  299.4  166.70  223.40  218.20  157.00   \n",
       "CalCounts    110.00  123.00  114.00   71.0  113.00   98.00   88.00   79.00   \n",
       "MonthlyFee    89.00   82.00   52.00   57.0   41.00   57.00   87.30   36.00   \n",
       "OverFee        9.87    9.78    6.06    3.1    7.42   11.03   17.43    5.16   \n",
       "RoamingMin    10.00   13.70   12.20    6.6   10.10    6.30    7.50    7.10   \n",
       "\n",
       "               8       9     ...    3323    3324    3325    3326    3327  \\\n",
       "Leave          0.00    0.00  ...    1.00    0.00    0.00    0.00    0.00   \n",
       "MemberWeeks  117.00  141.00  ...  117.00  159.00   78.00   96.00   79.00   \n",
       "NewContract    1.00    0.00  ...    1.00    1.00    1.00    1.00    1.00   \n",
       "IsData         0.00    1.00  ...    0.00    0.00    0.00    0.00    0.00   \n",
       "DataAmount     0.19    3.02  ...    0.39    0.00    0.23    0.36    0.00   \n",
       "Callcenter     1.00    0.00  ...    5.00    1.00    2.00    1.00    2.00   \n",
       "CalMins      184.50  258.60  ...  118.40  169.80  193.40  106.60  134.70   \n",
       "CalCounts     97.00   84.00  ...  126.00  114.00   99.00  128.00   98.00   \n",
       "MonthlyFee    63.90   93.20  ...   45.90   46.00   45.30   46.60   40.00   \n",
       "OverFee       17.58   11.10  ...   12.47    9.89    5.85   14.24    9.49   \n",
       "RoamingMin     8.70   11.20  ...   13.60   11.60    9.30   14.90   11.80   \n",
       "\n",
       "               3328    3329    3330    3331   3332  \n",
       "Leave          0.00    0.00    0.00    0.00    0.0  \n",
       "MemberWeeks  192.00   68.00   28.00  184.00   74.0  \n",
       "NewContract    1.00    1.00    1.00    0.00    1.0  \n",
       "IsData         1.00    0.00    0.00    0.00    1.0  \n",
       "DataAmount     2.67    0.34    0.00    0.00    3.7  \n",
       "Callcenter     2.00    3.00    2.00    2.00    0.0  \n",
       "CalMins      156.20  231.10  180.80  213.80  234.4  \n",
       "CalCounts     77.00   57.00  109.00  105.00  113.0  \n",
       "MonthlyFee    71.70   56.40   56.00   50.00  100.0  \n",
       "OverFee       10.78    7.67   14.44    7.98   13.3  \n",
       "RoamingMin     9.90    9.60   14.10    5.00   13.7  \n",
       "\n",
       "[11 rows x 3333 columns]"
      ]
     },
     "execution_count": 3,
     "metadata": {},
     "output_type": "execute_result"
    }
   ],
   "source": [
    "data.T"
   ]
  },
  {
   "cell_type": "code",
   "execution_count": 4,
   "id": "6579502b-dd03-4d05-86ae-1f1eabc6c33f",
   "metadata": {},
   "outputs": [
    {
     "data": {
      "text/plain": [
       "count    2850.000000\n",
       "mean      100.793684\n",
       "std        39.882350\n",
       "min         1.000000\n",
       "25%        73.000000\n",
       "50%       100.000000\n",
       "75%       127.000000\n",
       "max       243.000000\n",
       "Name: MemberWeeks, dtype: float64"
      ]
     },
     "execution_count": 4,
     "metadata": {},
     "output_type": "execute_result"
    }
   ],
   "source": [
    "data['Leave'].value_counts()\n",
    "#가입한고객들의 평균 가입 기간.\n",
    "data_range=data[data['Leave']==0]\n",
    "data_range['MemberWeeks'].describe()\n"
   ]
  },
  {
   "cell_type": "code",
   "execution_count": 5,
   "id": "496e08f2-f7fd-4825-bb54-9fb24a0ad71e",
   "metadata": {},
   "outputs": [
    {
     "data": {
      "text/plain": [
       "[39, 60, 121, 188, 300, 347, 385, 358, 321, 239, 140, 74, 47, 15, 6, 1, 1]"
      ]
     },
     "execution_count": 5,
     "metadata": {},
     "output_type": "execute_result"
    }
   ],
   "source": [
    "ex=[]\n",
    "dr=data_range[data_range['MemberWeeks']==0]\n",
    "for i in range(0,17):\n",
    "    ex.append(len(data_range[(data_range['MemberWeeks']>0+(15*i))&(data_range['MemberWeeks']<15+(15*i))]))\n",
    "ex\n"
   ]
  },
  {
   "cell_type": "code",
   "execution_count": 6,
   "id": "cf3ab880-2594-4080-b0bc-9e730c6227de",
   "metadata": {},
   "outputs": [
    {
     "data": {
      "text/plain": [
       "[[(0, 15)],\n",
       " [(15, 30)],\n",
       " [(30, 45)],\n",
       " [(45, 60)],\n",
       " [(60, 75)],\n",
       " [(75, 90)],\n",
       " [(90, 105)],\n",
       " [(105, 120)],\n",
       " [(120, 135)],\n",
       " [(135, 150)],\n",
       " [(150, 165)],\n",
       " [(165, 180)],\n",
       " [(180, 195)],\n",
       " [(195, 210)],\n",
       " [(210, 225)],\n",
       " [(225, 240)],\n",
       " [(240, 255)]]"
      ]
     },
     "execution_count": 6,
     "metadata": {},
     "output_type": "execute_result"
    }
   ],
   "source": [
    "list17=[]\n",
    "for i in range(0,17):\n",
    "    list17.append(0+(15*i))\n",
    "list17_2=[]\n",
    "for i in range(0,17):\n",
    "    list17_2.append([(0+(15*i),15+(15*i))])\n",
    "list17_2"
   ]
  },
  {
   "cell_type": "code",
   "execution_count": 7,
   "id": "1ecbcc2d-3466-4cc8-bc9c-27a42fdf9397",
   "metadata": {
    "tags": []
   },
   "outputs": [
    {
     "data": {
      "image/png": "[encoded data removed]",
      "text/plain": [
       "<Figure size 936x648 with 1 Axes>"
      ]
     },
     "metadata": {},
     "output_type": "display_data"
    }
   ],
   "source": [
    "fig = plt.figure(figsize=(13,9))\n",
    "fig.set_facecolor('white')\n",
    "ax1 = fig.add_subplot()\n",
    "ax1.plot(list17, ex,marker=\"H\", color='green')\n",
    "plt.xlabel('고객들의 가입기간 범위(15단위)',fontsize=15)\n",
    "plt.ylabel('고객의 수',fontsize=15)\n",
    "plt.title('가입한 고객들의 가입기간',fontsize=25)\n",
    "ax1.spines['right'].set_visible(False)\n",
    "ax1.spines['top'].set_visible(False)\n",
    "bbox = dict(\n",
    "    boxstyle='square',\n",
    "    facecolor='white',\n",
    ")\n",
    "plt.xticks(list17)\n",
    "for i, v in enumerate(list17):         #그래프 값에 숫자 추가하는 과정\n",
    "    ax1.text(v+8, ex[i], ex[i],\n",
    "            fontsize = 9, \n",
    "            color='firebrick',\n",
    "            size=12,\n",
    "            horizontalalignment='center',\n",
    "            verticalalignment='bottom',\n",
    "           bbox=bbox)\n",
    "for y in range(0,400,50):\n",
    "    ax1.axhline(y,linestyle=(0,(5,2)),color='grey',alpha=0.5)\n",
    "ax1.xaxis.grid(True)\n",
    "plt.show()"
   ]
  },
  {
   "cell_type": "code",
   "execution_count": 8,
   "id": "fe2b6fdb-2793-457e-a094-3c7e9b7f5ca0",
   "metadata": {},
   "outputs": [],
   "source": [
    "#가입한 고객들을 15단위로 나누고 기간에 맞는 고객의 수를 그래프로 표현하였습니다."
   ]
  },
  {
   "cell_type": "code",
   "execution_count": 9,
   "id": "7a70d548-8228-49fe-a71c-0c4051f3eaa1",
   "metadata": {},
   "outputs": [
    {
     "data": {
      "text/plain": [
       "count    483.000000\n",
       "mean     102.664596\n",
       "std       39.467820\n",
       "min        1.000000\n",
       "25%       76.000000\n",
       "50%      103.000000\n",
       "75%      127.000000\n",
       "max      225.000000\n",
       "Name: MemberWeeks, dtype: float64"
      ]
     },
     "execution_count": 9,
     "metadata": {},
     "output_type": "execute_result"
    }
   ],
   "source": [
    "leave_data_range=data[data['Leave']==1]\n",
    "leave_data_range['MemberWeeks'].describe()\n"
   ]
  },
  {
   "cell_type": "code",
   "execution_count": 10,
   "id": "c291e128-4005-4e4c-9396-605e47ba7b93",
   "metadata": {},
   "outputs": [
    {
     "data": {
      "text/plain": [
       "[4, 14, 17, 27, 46, 57, 71, 71, 59, 34, 24, 16, 6, 4, 2]"
      ]
     },
     "execution_count": 10,
     "metadata": {},
     "output_type": "execute_result"
    }
   ],
   "source": [
    "lex=[]\n",
    "list15=[]\n",
    "for i in range(0,15):\n",
    "    lex.append(len(leave_data_range[(leave_data_range['MemberWeeks']>0+(15*i))&(leave_data_range['MemberWeeks']<15+(15*i))]))\n",
    "    list15.append(0+(15*i))\n",
    "list15\n",
    "lex\n"
   ]
  },
  {
   "cell_type": "code",
   "execution_count": 11,
   "id": "ea2c5781-d181-44af-aae2-c3111f3c7351",
   "metadata": {},
   "outputs": [
    {
     "data": {
      "image/png": "[encoded data removed]",
      "text/plain": [
       "<Figure size 936x648 with 1 Axes>"
      ]
     },
     "metadata": {},
     "output_type": "display_data"
    }
   ],
   "source": [
    "fig = plt.figure(figsize=(13,9)) ## 캔버스 생성\n",
    "fig.set_facecolor('white') ## 캔버스 색상 설정\n",
    "ax = fig.add_subplot() ## 그림 뼈대(프레임) 생성\n",
    "ax.plot(list15, lex,marker=\"H\")\n",
    "plt.xlabel('고객들의 가입기간 범위(15단위)',fontsize=15)\n",
    "plt.ylabel('고객의 수',fontsize=15)\n",
    "plt.title('탈퇴한 고객들의 가입기간',fontsize=25)\n",
    "ax.spines['right'].set_visible(False) ## 오른쪽 축 숨김\n",
    "ax.spines['top'].set_visible(False) ## 위쪽 축 숨김\n",
    "bbox = dict( ## 텍스트 박스 스타일 지정\n",
    "    boxstyle='square', # 박스 모양\n",
    "    facecolor='white', # 박스 배경색\n",
    ")\n",
    "\n",
    "plt.xticks(list15)\n",
    "for i, v in enumerate(list15):   #그래프 값에 숫자 추가하는 과정\n",
    "    ax.text(v+5, lex[i], lex[i],\n",
    "            fontsize = 9,\n",
    "            color='firebrick',\n",
    "            size=12,\n",
    "            horizontalalignment='center',\n",
    "            verticalalignment='bottom',\n",
    "            bbox=bbox)\n",
    "for y in range(0,80,10):\n",
    "    ax.axhline(y,linestyle=(0,(5,2)),color='grey',alpha=0.5) ## 눈금선 생성\n",
    "ax.xaxis.grid(True)\n",
    "plt.show()"
   ]
  },
  {
   "cell_type": "code",
   "execution_count": 12,
   "id": "cf14ef24-597d-424b-9c09-67933331734c",
   "metadata": {},
   "outputs": [],
   "source": [
    "#탈퇴한 고객들을 15단위로 나누고 기간에 맞는 고객의 수를 그래프로 표현하였습니다."
   ]
  },
  {
   "cell_type": "code",
   "execution_count": 13,
   "id": "8d73802c-e527-430e-8aff-69c050e90290",
   "metadata": {},
   "outputs": [
    {
     "data": {
      "image/png": "[encoded data removed]",
      "text/plain": [
       "<Figure size 936x648 with 1 Axes>"
      ]
     },
     "metadata": {},
     "output_type": "display_data"
    }
   ],
   "source": [
    "fig = plt.figure(figsize=(13,9)) ## 캔버스 생성\n",
    "fig.set_facecolor('white') ## 캔버스 색상 설정\n",
    "ax = fig.add_subplot() ## 그림 뼈대(프레임) 생성\n",
    "plt.plot(list17, ex,marker=\"H\", color='green',label=\"Stay\")\n",
    "plt.plot(list15, lex,marker=\"H\",color='firebrick',label='Leave')\n",
    "plt.xlabel('고객들의 가입기간 범위(15단위)',fontsize=15)\n",
    "plt.ylabel('고객의 수',fontsize=15)\n",
    "plt.title('가입한 고객과 탈퇴한 고객들의 가입기간',fontsize=25)\n",
    "ax.spines['right'].set_visible(False) ## 오른쪽 축 숨김\n",
    "ax.spines['top'].set_visible(False) ## 위쪽 축 숨김\n",
    "plt.xticks(list17)\n",
    "for y in range(0,400,50):\n",
    "    ax1.axhline(y,linestyle=(0,(5,2)),color='grey',alpha=0.5)\n",
    "plt.xlabel('고객들의 가입기간 범위(15단위)',fontsize=15)\n",
    "plt.ylabel('고객의 수',fontsize=15)\n",
    "for y in range(0,400,25):\n",
    "    ax.axhline(y,linestyle=(0,(5,2)),color='grey',alpha=0.5) ## 눈금선 생성\n",
    "ax.xaxis.grid(True)\n",
    "plt.xticks(list17)\n",
    "ax.legend()\n",
    "plt.show()"
   ]
  },
  {
   "cell_type": "code",
   "execution_count": 14,
   "id": "655398cf-aa9c-4d32-9c15-8283955b7285",
   "metadata": {},
   "outputs": [],
   "source": [
    "#각각 \n",
    "#두 그래프를 보면 90~105이상의 고객들부터 고객의 수가 줄어드는 모습을 볼 수 있습니다. 이는 장기 고객을 위한 것이 없어보이고\n",
    "# 저 기점주터 급격하게 줄어드는 모습을 볼 수 있습니다.\n",
    "#또 신규 가입자수가 60~90사이 고객들은 높은데 ~60인 고객들은 급격하게 줄 고 있습니다. 또 탈퇴하는 고객들을 보면 초반에 탈퇴하는 비중이 높은것 같습니다."
   ]
  },
  {
   "cell_type": "code",
   "execution_count": 15,
   "id": "66aec947-8a9c-420d-9d75-bfbcfc5e733d",
   "metadata": {},
   "outputs": [
    {
     "data": {
      "text/plain": [
       "1    3010\n",
       "0     323\n",
       "Name: NewContract, dtype: int64"
      ]
     },
     "execution_count": 15,
     "metadata": {},
     "output_type": "execute_result"
    }
   ],
   "source": [
    "data['NewContract'].value_counts()\n",
    "#요금제를 바꾼 고객들의 초과요금"
   ]
  },
  {
   "cell_type": "code",
   "execution_count": 16,
   "id": "e3c406bd-1fc7-4943-9b50-295a89b3f01b",
   "metadata": {
    "tags": []
   },
   "outputs": [
    {
     "data": {
      "text/plain": [
       "count    3010.000000\n",
       "mean       10.035621\n",
       "std         2.523754\n",
       "min         0.000000\n",
       "25%         8.302500\n",
       "50%        10.070000\n",
       "75%        11.760000\n",
       "max        18.090000\n",
       "Name: OverFee, dtype: float64"
      ]
     },
     "execution_count": 16,
     "metadata": {},
     "output_type": "execute_result"
    }
   ],
   "source": [
    "ch_fee=data[(data['NewContract']==1)]\n",
    "ch_fee['OverFee'].describe()"
   ]
  },
  {
   "cell_type": "code",
   "execution_count": 17,
   "id": "1dc08fd7-8176-47ff-a195-eedc3f759933",
   "metadata": {},
   "outputs": [
    {
     "data": {
      "text/plain": [
       "count    323.000000\n",
       "mean      10.199350\n",
       "std        2.644023\n",
       "min        3.040000\n",
       "25%        8.390000\n",
       "50%       10.150000\n",
       "75%       11.970000\n",
       "max       18.190000\n",
       "Name: OverFee, dtype: float64"
      ]
     },
     "execution_count": 17,
     "metadata": {},
     "output_type": "execute_result"
    }
   ],
   "source": [
    "ch_fee=data[(data['NewContract']==0)]\n",
    "ch_fee['OverFee'].describe()"
   ]
  },
  {
   "cell_type": "code",
   "execution_count": 18,
   "id": "355cc2d2-f599-4bed-b002-4242603f6ae0",
   "metadata": {},
   "outputs": [],
   "source": [
    "def rating25 (arr):\n",
    "    return arr.quantile(0.25)\n",
    "def rating50 (arr):\n",
    "    return arr.quantile(0.5)\n",
    "def rating75 (arr):\n",
    "    return arr.quantile(0.75)\n",
    "#rating함수는 백분률을 표현하는데 describe에서는 백분율이나오지만 \n",
    "#여기 agg에서는 없어서 따로 quantile를 이용하여 만든다음에 추가하였습니다.\n"
   ]
  },
  {
   "cell_type": "code",
   "execution_count": 19,
   "id": "d7175431-00cf-4d6e-bb0e-77858f80177f",
   "metadata": {},
   "outputs": [
    {
     "data": {
      "text/html": [
       "<div>\n",
       "<style scoped>\n",
       "    .dataframe tbody tr th:only-of-type {\n",
       "        vertical-align: middle;\n",
       "    }\n",
       "\n",
       "    .dataframe tbody tr th {\n",
       "        vertical-align: top;\n",
       "    }\n",
       "\n",
       "    .dataframe thead tr th {\n",
       "        text-align: left;\n",
       "    }\n",
       "\n",
       "    .dataframe thead tr:last-of-type th {\n",
       "        text-align: right;\n",
       "    }\n",
       "</style>\n",
       "<table border=\"1\" class=\"dataframe\">\n",
       "  <thead>\n",
       "    <tr>\n",
       "      <th></th>\n",
       "      <th colspan=\"5\" halign=\"left\">OverFee</th>\n",
       "    </tr>\n",
       "    <tr>\n",
       "      <th></th>\n",
       "      <th>mean</th>\n",
       "      <th>min</th>\n",
       "      <th>rating25</th>\n",
       "      <th>rating75</th>\n",
       "      <th>max</th>\n",
       "    </tr>\n",
       "    <tr>\n",
       "      <th>NewContract</th>\n",
       "      <th></th>\n",
       "      <th></th>\n",
       "      <th></th>\n",
       "      <th></th>\n",
       "      <th></th>\n",
       "    </tr>\n",
       "  </thead>\n",
       "  <tbody>\n",
       "    <tr>\n",
       "      <th>0</th>\n",
       "      <td>10.199350</td>\n",
       "      <td>3.04</td>\n",
       "      <td>8.3900</td>\n",
       "      <td>11.97</td>\n",
       "      <td>18.19</td>\n",
       "    </tr>\n",
       "    <tr>\n",
       "      <th>1</th>\n",
       "      <td>10.035621</td>\n",
       "      <td>0.00</td>\n",
       "      <td>8.3025</td>\n",
       "      <td>11.76</td>\n",
       "      <td>18.09</td>\n",
       "    </tr>\n",
       "  </tbody>\n",
       "</table>\n",
       "</div>"
      ],
      "text/plain": [
       "               OverFee                               \n",
       "                  mean   min rating25 rating75    max\n",
       "NewContract                                          \n",
       "0            10.199350  3.04   8.3900    11.97  18.19\n",
       "1            10.035621  0.00   8.3025    11.76  18.09"
      ]
     },
     "execution_count": 19,
     "metadata": {},
     "output_type": "execute_result"
    }
   ],
   "source": [
    "(   data\n",
    "    .groupby(['NewContract'])\n",
    "    .agg({'OverFee':['mean','min',rating25,rating75,'max']})\n",
    ")\n",
    "#요금제를 바꾼사람들중 추가요금이 발생하는 추이를 확인하려고 하였습니다\n",
    "#실질적으로 요금제를 바꾼다고 추가요금이 발생하지 않고, 추가요금이 바꾸지않은사람과 바꾼사람간 차이가 크지않은걸 보아 조금 더 자세한 데이터가 필요 해 보입니다.\n",
    "#"
   ]
  },
  {
   "cell_type": "code",
   "execution_count": null,
   "id": "394db30e-aedc-4c1d-8852-87bfdddf7395",
   "metadata": {},
   "outputs": [],
   "source": []
  },
  {
   "cell_type": "code",
   "execution_count": null,
   "id": "e13cc5bc-d75e-4f6c-8555-6a448a073aff",
   "metadata": {},
   "outputs": [],
   "source": []
  },
  {
   "cell_type": "code",
   "execution_count": 20,
   "id": "5f443f70-3204-4ba2-b2b8-d46911ed3df2",
   "metadata": {},
   "outputs": [
    {
     "data": {
      "text/plain": [
       "0    2411\n",
       "1     922\n",
       "Name: IsData, dtype: int64"
      ]
     },
     "execution_count": 20,
     "metadata": {},
     "output_type": "execute_result"
    }
   ],
   "source": [
    "data['IsData'].value_counts()\n",
    "#데이터 요금제에 따른 고객의 전화랑 전화수 요금 초과요금 조회, 로밍시간도 조회"
   ]
  },
  {
   "cell_type": "code",
   "execution_count": 21,
   "id": "084dde03-8468-41b3-9978-24b28b52653c",
   "metadata": {},
   "outputs": [
    {
     "data": {
      "text/html": [
       "<div>\n",
       "<style scoped>\n",
       "    .dataframe tbody tr th:only-of-type {\n",
       "        vertical-align: middle;\n",
       "    }\n",
       "\n",
       "    .dataframe tbody tr th {\n",
       "        vertical-align: top;\n",
       "    }\n",
       "\n",
       "    .dataframe thead tr th {\n",
       "        text-align: left;\n",
       "    }\n",
       "\n",
       "    .dataframe thead tr:last-of-type th {\n",
       "        text-align: right;\n",
       "    }\n",
       "</style>\n",
       "<table border=\"1\" class=\"dataframe\">\n",
       "  <thead>\n",
       "    <tr>\n",
       "      <th></th>\n",
       "      <th colspan=\"5\" halign=\"left\">DataAmount</th>\n",
       "      <th colspan=\"5\" halign=\"left\">CalMins</th>\n",
       "      <th colspan=\"5\" halign=\"left\">CalCounts</th>\n",
       "    </tr>\n",
       "    <tr>\n",
       "      <th></th>\n",
       "      <th>mean</th>\n",
       "      <th>min</th>\n",
       "      <th>rating25</th>\n",
       "      <th>rating75</th>\n",
       "      <th>max</th>\n",
       "      <th>mean</th>\n",
       "      <th>min</th>\n",
       "      <th>rating25</th>\n",
       "      <th>rating75</th>\n",
       "      <th>max</th>\n",
       "      <th>mean</th>\n",
       "      <th>min</th>\n",
       "      <th>rating25</th>\n",
       "      <th>rating75</th>\n",
       "      <th>max</th>\n",
       "    </tr>\n",
       "    <tr>\n",
       "      <th>IsData</th>\n",
       "      <th></th>\n",
       "      <th></th>\n",
       "      <th></th>\n",
       "      <th></th>\n",
       "      <th></th>\n",
       "      <th></th>\n",
       "      <th></th>\n",
       "      <th></th>\n",
       "      <th></th>\n",
       "      <th></th>\n",
       "      <th></th>\n",
       "      <th></th>\n",
       "      <th></th>\n",
       "      <th></th>\n",
       "      <th></th>\n",
       "    </tr>\n",
       "  </thead>\n",
       "  <tbody>\n",
       "    <tr>\n",
       "      <th>0</th>\n",
       "      <td>0.072086</td>\n",
       "      <td>0.0</td>\n",
       "      <td>0.00</td>\n",
       "      <td>0.00</td>\n",
       "      <td>0.51</td>\n",
       "      <td>179.831813</td>\n",
       "      <td>0.0</td>\n",
       "      <td>143.7</td>\n",
       "      <td>216.45</td>\n",
       "      <td>350.8</td>\n",
       "      <td>100.573206</td>\n",
       "      <td>0</td>\n",
       "      <td>87</td>\n",
       "      <td>114</td>\n",
       "      <td>165</td>\n",
       "    </tr>\n",
       "    <tr>\n",
       "      <th>1</th>\n",
       "      <td>2.763026</td>\n",
       "      <td>0.0</td>\n",
       "      <td>2.27</td>\n",
       "      <td>3.27</td>\n",
       "      <td>5.40</td>\n",
       "      <td>179.626790</td>\n",
       "      <td>2.6</td>\n",
       "      <td>143.5</td>\n",
       "      <td>216.30</td>\n",
       "      <td>322.4</td>\n",
       "      <td>100.075922</td>\n",
       "      <td>35</td>\n",
       "      <td>87</td>\n",
       "      <td>113</td>\n",
       "      <td>163</td>\n",
       "    </tr>\n",
       "  </tbody>\n",
       "</table>\n",
       "</div>"
      ],
      "text/plain": [
       "       DataAmount                                  CalMins                \\\n",
       "             mean  min rating25 rating75   max        mean  min rating25   \n",
       "IsData                                                                     \n",
       "0        0.072086  0.0     0.00     0.00  0.51  179.831813  0.0    143.7   \n",
       "1        2.763026  0.0     2.27     3.27  5.40  179.626790  2.6    143.5   \n",
       "\n",
       "                         CalCounts                             \n",
       "       rating75    max        mean min rating25 rating75  max  \n",
       "IsData                                                         \n",
       "0        216.45  350.8  100.573206   0       87      114  165  \n",
       "1        216.30  322.4  100.075922  35       87      113  163  "
      ]
     },
     "execution_count": 21,
     "metadata": {},
     "output_type": "execute_result"
    }
   ],
   "source": [
    "\n",
    "(   data\n",
    "    .groupby(['IsData'])\n",
    "    .agg({'DataAmount':['mean','min',rating25,rating75,'max'],\n",
    "           'CalMins':['mean','min',rating25,rating75,'max'],\n",
    "           'CalCounts': ['mean','min',rating25,rating75,'max'],\n",
    "         \n",
    "         }\n",
    "        )\n",
    ")"
   ]
  },
  {
   "cell_type": "code",
   "execution_count": 22,
   "id": "315803f7-cbf3-492d-9902-2c74e5ee46f0",
   "metadata": {},
   "outputs": [
    {
     "data": {
      "text/html": [
       "<div>\n",
       "<style scoped>\n",
       "    .dataframe tbody tr th:only-of-type {\n",
       "        vertical-align: middle;\n",
       "    }\n",
       "\n",
       "    .dataframe tbody tr th {\n",
       "        vertical-align: top;\n",
       "    }\n",
       "\n",
       "    .dataframe thead tr th {\n",
       "        text-align: left;\n",
       "    }\n",
       "\n",
       "    .dataframe thead tr:last-of-type th {\n",
       "        text-align: right;\n",
       "    }\n",
       "</style>\n",
       "<table border=\"1\" class=\"dataframe\">\n",
       "  <thead>\n",
       "    <tr>\n",
       "      <th></th>\n",
       "      <th colspan=\"5\" halign=\"left\">MonthlyFee</th>\n",
       "      <th colspan=\"5\" halign=\"left\">OverFee</th>\n",
       "      <th colspan=\"5\" halign=\"left\">RoamingMin</th>\n",
       "    </tr>\n",
       "    <tr>\n",
       "      <th></th>\n",
       "      <th>mean</th>\n",
       "      <th>min</th>\n",
       "      <th>rating25</th>\n",
       "      <th>rating75</th>\n",
       "      <th>max</th>\n",
       "      <th>mean</th>\n",
       "      <th>min</th>\n",
       "      <th>rating25</th>\n",
       "      <th>rating75</th>\n",
       "      <th>max</th>\n",
       "      <th>mean</th>\n",
       "      <th>min</th>\n",
       "      <th>rating25</th>\n",
       "      <th>rating75</th>\n",
       "      <th>max</th>\n",
       "    </tr>\n",
       "    <tr>\n",
       "      <th>IsData</th>\n",
       "      <th></th>\n",
       "      <th></th>\n",
       "      <th></th>\n",
       "      <th></th>\n",
       "      <th></th>\n",
       "      <th></th>\n",
       "      <th></th>\n",
       "      <th></th>\n",
       "      <th></th>\n",
       "      <th></th>\n",
       "      <th></th>\n",
       "      <th></th>\n",
       "      <th></th>\n",
       "      <th></th>\n",
       "      <th></th>\n",
       "    </tr>\n",
       "  </thead>\n",
       "  <tbody>\n",
       "    <tr>\n",
       "      <th>0</th>\n",
       "      <td>48.815015</td>\n",
       "      <td>14.0</td>\n",
       "      <td>42.0</td>\n",
       "      <td>56.0</td>\n",
       "      <td>84.0</td>\n",
       "      <td>10.01774</td>\n",
       "      <td>0.00</td>\n",
       "      <td>8.3000</td>\n",
       "      <td>11.71</td>\n",
       "      <td>18.19</td>\n",
       "      <td>10.239569</td>\n",
       "      <td>0.0</td>\n",
       "      <td>8.5</td>\n",
       "      <td>12.1</td>\n",
       "      <td>18.9</td>\n",
       "    </tr>\n",
       "    <tr>\n",
       "      <th>1</th>\n",
       "      <td>75.891649</td>\n",
       "      <td>26.0</td>\n",
       "      <td>67.4</td>\n",
       "      <td>84.3</td>\n",
       "      <td>111.3</td>\n",
       "      <td>10.13974</td>\n",
       "      <td>2.11</td>\n",
       "      <td>8.3625</td>\n",
       "      <td>11.83</td>\n",
       "      <td>18.09</td>\n",
       "      <td>10.231345</td>\n",
       "      <td>0.0</td>\n",
       "      <td>8.4</td>\n",
       "      <td>12.1</td>\n",
       "      <td>20.0</td>\n",
       "    </tr>\n",
       "  </tbody>\n",
       "</table>\n",
       "</div>"
      ],
      "text/plain": [
       "       MonthlyFee                                  OverFee                 \\\n",
       "             mean   min rating25 rating75    max      mean   min rating25   \n",
       "IsData                                                                      \n",
       "0       48.815015  14.0     42.0     56.0   84.0  10.01774  0.00   8.3000   \n",
       "1       75.891649  26.0     67.4     84.3  111.3  10.13974  2.11   8.3625   \n",
       "\n",
       "                       RoamingMin                               \n",
       "       rating75    max       mean  min rating25 rating75   max  \n",
       "IsData                                                          \n",
       "0         11.71  18.19  10.239569  0.0      8.5     12.1  18.9  \n",
       "1         11.83  18.09  10.231345  0.0      8.4     12.1  20.0  "
      ]
     },
     "execution_count": 22,
     "metadata": {},
     "output_type": "execute_result"
    }
   ],
   "source": [
    "(\n",
    "    data\n",
    "    .groupby(['IsData'])\n",
    "    .agg({'MonthlyFee': ['mean','min',rating25,rating75,'max'],\n",
    "          'OverFee' :['mean','min',rating25,rating75,'max'],\n",
    "         'RoamingMin':['mean','min',rating25,rating75,'max']})\n",
    ")"
   ]
  },
  {
   "cell_type": "code",
   "execution_count": 23,
   "id": "4ef30f99-07cc-4135-994f-5cdc24b08b6b",
   "metadata": {},
   "outputs": [],
   "source": [
    "#두개로 나눈것은 길어서 생략이 되어 나눠서 표현했습니다\n",
    "#지금 데이터요금을 사용하는 사람과 데이터요금을 사용하는사람들의 데이터 사용량, 월평균전화량, 전화횟수, 월푱균요금, 초과요금, 로밍시간을 비교하였습니다.\n",
    "#그 결과 데이터 사용하는 요금제를 사용한다고 크게 차이가 나는 부분은 데이터사용여부와, 월평균 요금뿐 이였고, 데이터요금제를 사용한다고 하더라도 통화나 전화횟수 로밍시간, 추가요금에는 큰 차이가 나타나지않는걸 볼 수 있습니다."
   ]
  },
  {
   "cell_type": "code",
   "execution_count": 24,
   "id": "36199e03-7812-4554-b79d-70252524cdfa",
   "metadata": {},
   "outputs": [
    {
     "data": {
      "text/plain": [
       "<AxesSubplot:>"
      ]
     },
     "execution_count": 24,
     "metadata": {},
     "output_type": "execute_result"
    },
    {
     "data": {
      "image/png": "[encoded data removed]",
      "text/plain": [
       "<Figure size 432x288 with 1 Axes>"
      ]
     },
     "metadata": {
      "needs_background": "light"
     },
     "output_type": "display_data"
    }
   ],
   "source": [
    "data['MonthlyFee'].hist()"
   ]
  },
  {
   "cell_type": "code",
   "execution_count": 25,
   "id": "a91a825d-4fe6-4953-a4d1-f2bb13902087",
   "metadata": {},
   "outputs": [
    {
     "data": {
      "text/plain": [
       "count    3333.000000\n",
       "mean       56.305161\n",
       "std        16.426032\n",
       "min        14.000000\n",
       "25%        45.000000\n",
       "50%        53.500000\n",
       "75%        66.200000\n",
       "max       111.300000\n",
       "Name: MonthlyFee, dtype: float64"
      ]
     },
     "execution_count": 25,
     "metadata": {},
     "output_type": "execute_result"
    }
   ],
   "source": [
    "data['MonthlyFee'].describe()"
   ]
  },
  {
   "cell_type": "code",
   "execution_count": 38,
   "id": "ae7c3e35-c030-417f-b966-fbd3887c9f63",
   "metadata": {},
   "outputs": [],
   "source": [
    "call=[]\n",
    "usedata=[]\n",
    "list5=[]\n",
    "for i in range(0,11):\n",
    "    call.append((data[(data['MonthlyFee']>10+(10*i))&(data['MonthlyFee']<30+(10*i))]['CalMins']).mean())\n",
    "    usedata.append((data[(data['MonthlyFee']>10+(10*i))&(data['MonthlyFee']<30+(10*i))]['DataAmount']).mean())\n",
    "    list5.append(10+(10*i))\n",
    "    "
   ]
  },
  {
   "cell_type": "code",
   "execution_count": 39,
   "id": "72a00c6a-2e30-4ee6-b544-0a7329ae1811",
   "metadata": {},
   "outputs": [
    {
     "data": {
      "text/plain": [
       "[68.212,\n",
       " 110.04144144144145,\n",
       " 146.52514619883036,\n",
       " 180.35188106796105,\n",
       " 202.0034992223948,\n",
       " 201.87250945775546,\n",
       " 200.96323809523815,\n",
       " 216.82730158730166,\n",
       " 239.52900763358784,\n",
       " 258.45624999999995,\n",
       " 268.8]"
      ]
     },
     "execution_count": 39,
     "metadata": {},
     "output_type": "execute_result"
    }
   ],
   "source": [
    "call"
   ]
  },
  {
   "cell_type": "code",
   "execution_count": 40,
   "id": "34580fe5-091e-45bb-ad85-9681af2598a7",
   "metadata": {},
   "outputs": [
    {
     "data": {
      "text/plain": [
       "[0.04933333333333333,\n",
       " 0.07087837837837835,\n",
       " 0.09076023391812864,\n",
       " 0.17466019417475734,\n",
       " 0.5831726283048212,\n",
       " 1.6257881462799515,\n",
       " 2.6337904761904762,\n",
       " 3.1061587301587306,\n",
       " 3.428549618320611,\n",
       " 3.9262500000000005,\n",
       " 4.43]"
      ]
     },
     "execution_count": 40,
     "metadata": {},
     "output_type": "execute_result"
    }
   ],
   "source": [
    "usedata"
   ]
  },
  {
   "cell_type": "code",
   "execution_count": 41,
   "id": "de310536-c8e5-41fc-9e3d-1f31395d58b3",
   "metadata": {},
   "outputs": [
    {
     "data": {
      "text/plain": [
       "[10, 20, 30, 40, 50, 60, 70, 80, 90, 100, 110]"
      ]
     },
     "execution_count": 41,
     "metadata": {},
     "output_type": "execute_result"
    }
   ],
   "source": [
    "list5"
   ]
  },
  {
   "cell_type": "code",
   "execution_count": 42,
   "id": "de125108-3d7f-4e0b-b11e-ae208ff3e282",
   "metadata": {},
   "outputs": [
    {
     "data": {
      "image/png": "[encoded data removed]",
      "text/plain": [
       "<Figure size 1080x504 with 2 Axes>"
      ]
     },
     "metadata": {
      "needs_background": "light"
     },
     "output_type": "display_data"
    }
   ],
   "source": [
    "plt.rcParams['figure.figsize'] = [15, 7]\n",
    "fig, ax1 = plt.subplots()\n",
    "ax1.plot(list5, call,marker=\"H\", color='green',label=\"call\")\n",
    "ax1.set_xlabel('요금 별',fontsize=15)\n",
    "ax1.set_ylabel('전화량',fontsize=15)\n",
    "ax1.tick_params(axis='both', direction='in')\n",
    "\n",
    "ax2 = ax1.twinx()\n",
    "ax2.plot(list5, usedata,marker=\"H\", color='firebrick',label=\"useData\")\n",
    "# ax2.set_ylim(0,5)\n",
    "# ax1.set_ylim(0,282,5)\n",
    "ax2.set_ylabel('데이터 사용',fontsize=15)\n",
    "ax2.tick_params(axis='y', direction='in')\n",
    "\n",
    "ax1.set_zorder(ax2.get_zorder() + 10)\n",
    "ax1.patch.set_visible(False)\n",
    "\n",
    "ax1.legend(loc='upper left')\n",
    "ax2.legend(loc='upper right')\n",
    "plt.title('월평균요금에 따른 전화와 데이터 사용량',fontsize=20)\n",
    "plt.xticks(list5)\n",
    "plt.legend(loc=\"lower right\", fontsize=10)\n",
    "for y in range(75,275,25):\n",
    "    ax1.axhline(y,linestyle=(0,(5,2)),color='grey',alpha=0.5)\n",
    "# for y in range(0,5):\n",
    "#     ax2.axhline(y,color='grey',alpha=0.5,linestyle=(0,(5,2)))\n",
    "ax1.xaxis.grid(True)\n",
    "plt.show()"
   ]
  },
  {
   "cell_type": "code",
   "execution_count": 43,
   "id": "b31f05ad-928f-48c2-a66a-b55cac4321a8",
   "metadata": {},
   "outputs": [],
   "source": [
    "#요금별로 전화량과 데이터 사용량을 그래프화하여 표현 하였고 요금과 데이터사용, \n",
    "#전화량은 비례하여 늘어나지만 낮은 요금에서는 데이터사용이 낮다가 60정도 요금제에서 데이터사용이 늘어나기시작하고,70이상의 요금제에서는 데이터사용량이 완만하게 증가합니다\n",
    "#전화량은 50이상 80미만에서는 통화량이 비슷하고 이외 요금제에서는 증가하는 추세입니다."
   ]
  },
  {
   "cell_type": "code",
   "execution_count": null,
   "id": "8c0ecebb-f9e2-4f91-94cf-1083ea679bd7",
   "metadata": {},
   "outputs": [],
   "source": []
  },
  {
   "cell_type": "code",
   "execution_count": null,
   "id": "8ce1c8a9-8b74-4005-8b0c-2fbeb5f72aa5",
   "metadata": {},
   "outputs": [],
   "source": []
  }
 ],
 "metadata": {
  "kernelspec": {
   "display_name": "Python 3",
   "language": "python",
   "name": "python3"
  },
  "language_info": {
   "codemirror_mode": {
    "name": "ipython",
    "version": 3
   },
   "file_extension": ".py",
   "mimetype": "text/x-python",
   "name": "python",
   "nbconvert_exporter": "python",
   "pygments_lexer": "ipython3",
   "version": "3.8.8"
  }
 },
 "nbformat": 4,
 "nbformat_minor": 5
}
